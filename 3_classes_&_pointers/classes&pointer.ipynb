{
 "cells": [
  {
   "attachments": {},
   "cell_type": "markdown",
   "metadata": {},
   "source": [
    "# Classes\n",
    "\n",
    "classes are important topic. what is a class. it is a cookie cutter. there are built in cookie cutters. when you create a class you are creating your own data type. \n",
    "\n",
    "the ```__init__``` is a constructor\n"
   ]
  },
  {
   "cell_type": "code",
   "execution_count": 1,
   "metadata": {},
   "outputs": [
    {
     "name": "stdout",
     "output_type": "stream",
     "text": [
      "Cookie one is green\n",
      "Cookie two is blue\n",
      "\n",
      "Cookie one is now yellow\n",
      "Cookie two is still blue\n"
     ]
    }
   ],
   "source": [
    "class Cookie:\n",
    "    def __init__(self, color):\n",
    "        self.color = color\n",
    "\n",
    "    def get_color(self):\n",
    "        return self.color\n",
    "\n",
    "    def set_color(self, color):\n",
    "        self.color = color\n",
    "\n",
    "\n",
    "cookie_one = Cookie('green')\n",
    "cookie_two = Cookie('blue')\n",
    "\n",
    "print('Cookie one is', cookie_one.get_color())\n",
    "print('Cookie two is', cookie_two.get_color())\n",
    "\n",
    "cookie_one.set_color('yellow')\n",
    "\n",
    "print('\\nCookie one is now', cookie_one.get_color())\n",
    "print('Cookie two is still', cookie_two.get_color())\n"
   ]
  },
  {
   "attachments": {},
   "cell_type": "markdown",
   "metadata": {},
   "source": [
    "# Pointers\n",
    "\n",
    "how pointers work differently with different data structures. \n",
    "\n",
    "pointers are pointing to somewhere in memory, you can see this with the id function in python. if there is nothing pointing to a variable or a list or a dictionary or something. Python will automatically remove this using something called garbage colletion."
   ]
  },
  {
   "cell_type": "code",
   "execution_count": 2,
   "metadata": {},
   "outputs": [
    {
     "name": "stdout",
     "output_type": "stream",
     "text": [
      "Before num2 value is updated:\n",
      "num1 = 11\n",
      "num2 = 11\n",
      "\n",
      "num1 points to: 1417942362736\n",
      "num2 points to: 1417942362736\n",
      "\n",
      "After num2 value is updated:\n",
      "num1 = 11\n",
      "num2 = 22\n",
      "\n",
      "num1 points to: 1417942362736\n",
      "num2 points to: 1417942363088\n",
      "\n",
      "\n",
      "Before value is updated:\n",
      "dict1 = {'value': 11}\n",
      "dict2 = {'value': 11}\n",
      "\n",
      "dict1 points to: 1417996521088\n",
      "dict2 points to: 1417996521088\n",
      "\n",
      "After value is updated:\n",
      "dict1 = {'value': 22}\n",
      "dict2 = {'value': 22}\n",
      "\n",
      "dict1 points to: 1417996521088\n",
      "dict2 points to: 1417996521088\n"
     ]
    }
   ],
   "source": [
    "num1 = 11\n",
    "\n",
    "num2 = num1\n",
    "\n",
    "print(\"Before num2 value is updated:\")\n",
    "print(\"num1 =\", num1)\n",
    "print(\"num2 =\", num2)\n",
    "\n",
    "print(\"\\nnum1 points to:\", id(num1))\n",
    "print(\"num2 points to:\", id(num2)) \n",
    "\n",
    "num2 = 22 \n",
    "\n",
    "print(\"\\nAfter num2 value is updated:\")\n",
    "print(\"num1 =\", num1)\n",
    "print(\"num2 =\", num2) \n",
    "\n",
    "print(\"\\nnum1 points to:\", id(num1))\n",
    "print(\"num2 points to:\", id(num2))\n",
    "\n",
    "\n",
    "#####################################\n",
    "\n",
    "\n",
    "dict1 = {\n",
    "         'value': 11\n",
    "        }\n",
    "\n",
    "dict2 = dict1 \n",
    "\n",
    "print(\"\\n\\nBefore value is updated:\")\n",
    "print(\"dict1 =\", dict1)\n",
    "print(\"dict2 =\", dict2)\n",
    "\n",
    "print(\"\\ndict1 points to:\", id(dict1))\n",
    "print(\"dict2 points to:\", id(dict2)) \n",
    "\n",
    "dict2['value'] = 22\n",
    "\n",
    "print(\"\\nAfter value is updated:\")\n",
    "print(\"dict1 =\", dict1)\n",
    "print(\"dict2 =\", dict2) \n",
    "\n",
    "print(\"\\ndict1 points to:\", id(dict1))\n",
    "print(\"dict2 points to:\", id(dict2))\n",
    "\n",
    "\n"
   ]
  }
 ],
 "metadata": {
  "kernelspec": {
   "display_name": "base",
   "language": "python",
   "name": "python3"
  },
  "language_info": {
   "codemirror_mode": {
    "name": "ipython",
    "version": 3
   },
   "file_extension": ".py",
   "mimetype": "text/x-python",
   "name": "python",
   "nbconvert_exporter": "python",
   "pygments_lexer": "ipython3",
   "version": "3.9.13"
  },
  "orig_nbformat": 4
 },
 "nbformat": 4,
 "nbformat_minor": 2
}
