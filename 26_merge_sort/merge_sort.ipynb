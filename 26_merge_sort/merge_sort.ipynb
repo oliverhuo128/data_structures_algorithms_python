{
 "cells": [
  {
   "attachments": {},
   "cell_type": "markdown",
   "metadata": {},
   "source": [
    "### Merge sort"
   ]
  },
  {
   "attachments": {},
   "cell_type": "markdown",
   "metadata": {},
   "source": [
    "#### merge helper function"
   ]
  },
  {
   "cell_type": "code",
   "execution_count": 2,
   "metadata": {},
   "outputs": [
    {
     "name": "stdout",
     "output_type": "stream",
     "text": [
      "4\n",
      "4\n",
      "[1, 2, 3, 4, 5, 6, 7, 8]\n"
     ]
    }
   ],
   "source": [
    "\n",
    "def merge(list1, list2):\n",
    "    combined = []\n",
    "    i = 0\n",
    "    j = 0\n",
    "    print(len(list1))\n",
    "    print(len(list2))\n",
    "    while i < len(list1) and j < len(list2):\n",
    "        if list1[i] < list2[j]:\n",
    "            combined.append(list1[i])\n",
    "            i += 1\n",
    "        else:\n",
    "            combined.append(list2[j])\n",
    "            j += 1\n",
    "    \n",
    "    while i < len(list1):\n",
    "        combined.append(list1[i])\n",
    "        i += 1\n",
    "\n",
    "    while j < len(list2):\n",
    "        combined.append(list2[j])\n",
    "        j += 1\n",
    "\n",
    "    return combined\n",
    "\n",
    "\n",
    "\n",
    "\n",
    "# MERGE REQUIRES TWO SORTED LISTS:\n",
    "print(merge([1,2,7,8], [3,4,5,6]))"
   ]
  },
  {
   "attachments": {},
   "cell_type": "markdown",
   "metadata": {},
   "source": [
    "#### merge code"
   ]
  },
  {
   "cell_type": "code",
   "execution_count": 3,
   "metadata": {},
   "outputs": [
    {
     "name": "stdout",
     "output_type": "stream",
     "text": [
      "Original List: [3, 1, 4, 2]\n",
      "\n",
      "Sorted List: [1, 2, 3, 4]\n"
     ]
    }
   ],
   "source": [
    "def merge(array1, array2):\n",
    "    combined = []\n",
    "    i = 0\n",
    "    j = 0\n",
    "    while i < len(array1) and j < len(array2):\n",
    "        if array1[i] < array2[j]:\n",
    "            combined.append(array1[i])\n",
    "            i += 1\n",
    "        else:\n",
    "            combined.append(array2[j])\n",
    "            j += 1\n",
    "              \n",
    "    while i < len(array1):\n",
    "        combined.append(array1[i])\n",
    "        i += 1\n",
    "\n",
    "    while j < len(array2):\n",
    "        combined.append(array2[j])\n",
    "        j += 1\n",
    "\n",
    "    return combined\n",
    "\n",
    "\n",
    "def merge_sort(my_list):\n",
    "    if len(my_list) == 1:\n",
    "        return my_list\n",
    "    mid_index = int(len(my_list)/2)\n",
    "    left = merge_sort(my_list[:mid_index])\n",
    "    right = merge_sort(my_list[mid_index:])\n",
    "    \n",
    "    return merge(left, right)\n",
    "\n",
    "\n",
    "\n",
    "original_list = [3,1,4,2]\n",
    "\n",
    "sorted_list = merge_sort(original_list)\n",
    "\n",
    "print('Original List:', original_list)\n",
    "\n",
    "print('\\nSorted List:', sorted_list)"
   ]
  },
  {
   "cell_type": "code",
   "execution_count": 4,
   "metadata": {},
   "outputs": [
    {
     "name": "stdout",
     "output_type": "stream",
     "text": [
      "1\n"
     ]
    }
   ],
   "source": [
    "print(int(1.9))"
   ]
  }
 ],
 "metadata": {
  "kernelspec": {
   "display_name": "base",
   "language": "python",
   "name": "python3"
  },
  "language_info": {
   "codemirror_mode": {
    "name": "ipython",
    "version": 3
   },
   "file_extension": ".py",
   "mimetype": "text/x-python",
   "name": "python",
   "nbconvert_exporter": "python",
   "pygments_lexer": "ipython3",
   "version": "3.9.13"
  },
  "orig_nbformat": 4
 },
 "nbformat": 4,
 "nbformat_minor": 2
}
