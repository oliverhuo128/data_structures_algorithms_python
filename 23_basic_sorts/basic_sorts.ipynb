{
 "cells": [
  {
   "attachments": {},
   "cell_type": "markdown",
   "metadata": {},
   "source": [
    "### Bubble Sort"
   ]
  },
  {
   "cell_type": "code",
   "execution_count": 4,
   "metadata": {},
   "outputs": [
    {
     "name": "stdout",
     "output_type": "stream",
     "text": [
      "[1, 2, 3, 4, 5, 6]\n"
     ]
    }
   ],
   "source": [
    "def bubble_sort(my_list):\n",
    "    for i in range(len(my_list) - 1, 0 ,-1):\n",
    "        for j in range(i):\n",
    "            if my_list[j] > my_list[j+1]:\n",
    "                temp = my_list[j]\n",
    "                my_list[j] = my_list[j+1]\n",
    "                my_list[j+1] = temp\n",
    "    return my_list\n",
    "\n",
    "print(bubble_sort([4,2,6,5,1,3]))"
   ]
  },
  {
   "attachments": {},
   "cell_type": "markdown",
   "metadata": {},
   "source": [
    "### Selection Sort"
   ]
  },
  {
   "cell_type": "code",
   "execution_count": 5,
   "metadata": {},
   "outputs": [
    {
     "name": "stdout",
     "output_type": "stream",
     "text": [
      "[1, 2, 3, 4, 5, 6]\n"
     ]
    }
   ],
   "source": [
    "def selection_sort(my_list):\n",
    "    for i in range(len(my_list)-1):\n",
    "        min_index = i\n",
    "        for j in range(i+1, len(my_list)):\n",
    "            if my_list[j] < my_list[min_index]:\n",
    "                min_index = j\n",
    "        if i != min_index:\n",
    "            temp = my_list[i]\n",
    "            my_list[i] = my_list[min_index]\n",
    "            my_list[min_index] = temp\n",
    "    return my_list\n",
    "\n",
    "print(selection_sort([4,2,6,5,1,3]))"
   ]
  },
  {
   "attachments": {},
   "cell_type": "markdown",
   "metadata": {},
   "source": [
    "### Insertion Sort"
   ]
  },
  {
   "cell_type": "code",
   "execution_count": 9,
   "metadata": {},
   "outputs": [
    {
     "name": "stdout",
     "output_type": "stream",
     "text": [
      "[1, 2, 3, 4, 5, 6]\n"
     ]
    }
   ],
   "source": [
    "def insertion_sort(my_list):\n",
    "    for i in range(1, len(my_list)):\n",
    "        temp = my_list[i]\n",
    "        j = i-1\n",
    "        while temp < my_list[j] and j > -1:\n",
    "            my_list[j+1] = my_list[j] \n",
    "            my_list[j] = temp\n",
    "            j -= 1\n",
    "    return my_list\n",
    "\n",
    "print(insertion_sort([4,2,6,5,1,3]))"
   ]
  }
 ],
 "metadata": {
  "kernelspec": {
   "display_name": "base",
   "language": "python",
   "name": "python3"
  },
  "language_info": {
   "codemirror_mode": {
    "name": "ipython",
    "version": 3
   },
   "file_extension": ".py",
   "mimetype": "text/x-python",
   "name": "python",
   "nbconvert_exporter": "python",
   "pygments_lexer": "ipython3",
   "version": "3.9.13"
  },
  "orig_nbformat": 4
 },
 "nbformat": 4,
 "nbformat_minor": 2
}
