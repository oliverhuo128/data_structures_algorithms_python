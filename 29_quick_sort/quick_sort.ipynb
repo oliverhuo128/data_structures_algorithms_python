{
 "cells": [
  {
   "attachments": {},
   "cell_type": "markdown",
   "metadata": {},
   "source": [
    "### pivot"
   ]
  },
  {
   "cell_type": "code",
   "execution_count": 1,
   "metadata": {},
   "outputs": [
    {
     "name": "stdout",
     "output_type": "stream",
     "text": [
      "List before running pivot():\n",
      "[4, 6, 1, 7, 3, 2, 5]\n",
      "\n",
      "List after running pivot():\n",
      "[2, 1, 3, 4, 6, 7, 5]\n",
      "\n",
      "Pivot Index:\n",
      "3\n"
     ]
    }
   ],
   "source": [
    "def swap(my_list, index1, index2):\n",
    "    temp = my_list[index1]\n",
    "    my_list[index1] = my_list[index2]\n",
    "    my_list[index2] = temp\n",
    "\n",
    "\n",
    "def pivot(my_list, pivot_index, end_index):\n",
    "    swap_index = pivot_index\n",
    "\n",
    "    for i in range(pivot_index+1, end_index+1):\n",
    "        if my_list[i] < my_list[pivot_index]:\n",
    "            swap_index += 1\n",
    "            swap(my_list, swap_index, i)\n",
    "    swap(my_list, pivot_index, swap_index)\n",
    "    return swap_index\n",
    "\n",
    "\n",
    "\n",
    "\n",
    "my_list = [4,6,1,7,3,2,5]\n",
    "\n",
    "print('List before running pivot():')\n",
    "print(my_list)\n",
    "\n",
    "returned_pivot_index = pivot(my_list, 0, 6)\n",
    "\n",
    "print('\\nList after running pivot():')\n",
    "print(my_list)\n",
    "\n",
    "print('\\nPivot Index:')\n",
    "print(returned_pivot_index)"
   ]
  },
  {
   "attachments": {},
   "cell_type": "markdown",
   "metadata": {},
   "source": [
    "### quick sort"
   ]
  },
  {
   "cell_type": "code",
   "execution_count": 2,
   "metadata": {},
   "outputs": [
    {
     "name": "stdout",
     "output_type": "stream",
     "text": [
      "[1, 2, 3, 4, 5, 6, 7]\n"
     ]
    }
   ],
   "source": [
    "def swap(my_list, index1, index2):\n",
    "    temp = my_list[index1]\n",
    "    my_list[index1] = my_list[index2]\n",
    "    my_list[index2] = temp\n",
    "\n",
    "\n",
    "def pivot(my_list, pivot_index, end_index):\n",
    "    swap_index = pivot_index\n",
    "\n",
    "    for i in range(pivot_index+1, end_index+1):\n",
    "        if my_list[i] < my_list[pivot_index]:\n",
    "            swap_index += 1\n",
    "            swap(my_list, swap_index, i)\n",
    "    swap(my_list, pivot_index, swap_index)\n",
    "    return swap_index\n",
    "\n",
    "\n",
    "def quick_sort_helper(my_list, left, right):\n",
    "    if left < right:\n",
    "        pivot_index = pivot(my_list, left, right)\n",
    "        quick_sort_helper(my_list, left, pivot_index-1)  \n",
    "        quick_sort_helper(my_list, pivot_index+1, right)       \n",
    "    return my_list\n",
    "    \n",
    "\n",
    "def quick_sort(my_list):\n",
    "    quick_sort_helper(my_list, 0, len(my_list)-1)\n",
    "\n",
    " \n",
    " \n",
    "\n",
    "\n",
    "my_list = [4,6,1,7,3,2,5]\n",
    "\n",
    "quick_sort(my_list)\n",
    "\n",
    "print(my_list)\n"
   ]
  }
 ],
 "metadata": {
  "kernelspec": {
   "display_name": "base",
   "language": "python",
   "name": "python3"
  },
  "language_info": {
   "codemirror_mode": {
    "name": "ipython",
    "version": 3
   },
   "file_extension": ".py",
   "mimetype": "text/x-python",
   "name": "python",
   "nbconvert_exporter": "python",
   "pygments_lexer": "ipython3",
   "version": "3.9.13"
  },
  "orig_nbformat": 4
 },
 "nbformat": 4,
 "nbformat_minor": 2
}
