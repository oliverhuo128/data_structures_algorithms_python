{
 "cells": [
  {
   "attachments": {},
   "cell_type": "markdown",
   "metadata": {},
   "source": [
    "# Big O notation\n",
    "\n",
    "### Intro\n",
    "\n",
    "Big-o is comparing two sets of code about how efficiently how they run.\n",
    "\n",
    "Time Complexity is the speed the code runs. Mesured in the number of operations, \n",
    "\n",
    "In addition to time complexity we also have space complexity."
   ]
  },
  {
   "attachments": {},
   "cell_type": "markdown",
   "metadata": {},
   "source": [
    "### Big O worst case\n",
    "\n",
    "running a for loop of 7, the best case is 1 because we find it immediately the worst case is 7. When talking about bit O we always talk about the worst case.\n",
    "\n",
    "the ore omega theta and O.\n",
    "\n",
    "O is worst case"
   ]
  },
  {
   "attachments": {},
   "cell_type": "markdown",
   "metadata": {},
   "source": [
    "### Big O: O(n)\n",
    "\n",
    "the following is O(n). O(n) is always going to be a straight line, it is what we call proportional.\n"
   ]
  },
  {
   "cell_type": "code",
   "execution_count": 2,
   "metadata": {},
   "outputs": [
    {
     "name": "stdout",
     "output_type": "stream",
     "text": [
      "0\n",
      "1\n",
      "2\n",
      "3\n",
      "4\n",
      "5\n",
      "6\n",
      "7\n",
      "8\n",
      "9\n"
     ]
    }
   ],
   "source": [
    "def print_items(n):\n",
    "    for i in range(n):\n",
    "        print(i)\n",
    "\n",
    "print_items(10)"
   ]
  },
  {
   "attachments": {},
   "cell_type": "markdown",
   "metadata": {},
   "source": [
    "The below runs O(2n) but we can drop the constant meaning we can write the following code also as O(n). the below code is also proportional."
   ]
  },
  {
   "cell_type": "code",
   "execution_count": 3,
   "metadata": {},
   "outputs": [
    {
     "name": "stdout",
     "output_type": "stream",
     "text": [
      "0\n",
      "1\n",
      "2\n",
      "3\n",
      "4\n",
      "5\n",
      "6\n",
      "7\n",
      "8\n",
      "9\n",
      "0\n",
      "1\n",
      "2\n",
      "3\n",
      "4\n",
      "5\n",
      "6\n",
      "7\n",
      "8\n",
      "9\n"
     ]
    }
   ],
   "source": [
    "def print_items(n):\n",
    "    for i in range(n):\n",
    "        print(i)\n",
    "\n",
    "    for j in range(n):\n",
    "        print(j)\n",
    "\n",
    "print_items(10)\n"
   ]
  },
  {
   "attachments": {},
   "cell_type": "markdown",
   "metadata": {},
   "source": [
    "### O(n^2)\n",
    "\n",
    "the code below runs O(n^2) times, it is alot less efficient than O(n). Much longer time complexity."
   ]
  },
  {
   "cell_type": "code",
   "execution_count": null,
   "metadata": {},
   "outputs": [],
   "source": [
    "def print_items(n):\n",
    "    for i in range(n):\n",
    "        for j in range(n):\n",
    "            print(i,j) \n",
    "\n",
    "print_items(10)\n"
   ]
  },
  {
   "attachments": {},
   "cell_type": "markdown",
   "metadata": {},
   "source": [
    "### Drop Non-Dominants\n",
    "\n",
    "the nested for loop ran O(n^2) the other one ran O(n). so the O which is ran is O(n^2 + n).\n",
    "\n",
    "We drop the n to make O(n^2). we drop the non - dominant. so the below run O(n^2). same as above."
   ]
  },
  {
   "cell_type": "code",
   "execution_count": null,
   "metadata": {},
   "outputs": [],
   "source": [
    "def print_items(n):\n",
    "    for i in range(n):\n",
    "        for j in range(n):\n",
    "            print(i,j)\n",
    "    \n",
    "    for k in range(n):\n",
    "        print(k)\n",
    "\n",
    "print_items(10)\n"
   ]
  },
  {
   "attachments": {},
   "cell_type": "markdown",
   "metadata": {},
   "source": [
    "### O(1)\n",
    "\n",
    "the only operation is the addition. no matter the number there is only one operation. O(1) is also called constant time. as n increase the numbers of operations is always O(1)"
   ]
  },
  {
   "cell_type": "code",
   "execution_count": 4,
   "metadata": {},
   "outputs": [
    {
     "name": "stdout",
     "output_type": "stream",
     "text": [
      "30\n"
     ]
    }
   ],
   "source": [
    "def add_items(n):\n",
    "    return n + n + n\n",
    " \n",
    "\n",
    "print(add_items(10))"
   ]
  },
  {
   "attachments": {},
   "cell_type": "markdown",
   "metadata": {},
   "source": [
    "### O(log n)\n",
    "\n",
    "We have to have sorted data. imagine if we can halve the dataset. Of 8 sets. we will need to halve it three times to get 1.\n",
    "\n",
    "2^3 = 8\n",
    "3 log(2) = log 8\n",
    "log_2 (8) = 3\n",
    "\n",
    "O(log n) is very efficient because we can cut it in half everytime"
   ]
  },
  {
   "attachments": {},
   "cell_type": "markdown",
   "metadata": {},
   "source": [
    "### Different terms for inputs\n",
    "\n",
    "the below is O(a+b) you can't simplify that further to O(n) because n is one variable and the below is two variables so O(a+b) is as far as you can simplify that down til. similarly if it was a nested for loop with variables a and b. It will then be O(a*b)"
   ]
  },
  {
   "cell_type": "code",
   "execution_count": null,
   "metadata": {},
   "outputs": [],
   "source": [
    "def print_items(a,b):\n",
    "    for i in range(a):\n",
    "        print(i)\n",
    "\n",
    "    for j in range(b):\n",
    "        print(j)\n",
    "\n",
    "print_items(1, 10)\n"
   ]
  },
  {
   "attachments": {},
   "cell_type": "markdown",
   "metadata": {},
   "source": [
    "### Big O of lists\n",
    "\n",
    "Lists is a built in data structure, on the one end if we append at the end it's O(1) if we append at the start we have O(n) because we will need to reindex everything.\n",
    "\n"
   ]
  },
  {
   "attachments": {},
   "cell_type": "markdown",
   "metadata": {},
   "source": [
    "### wrap up Big(O)\n",
    "\n"
   ]
  }
 ],
 "metadata": {
  "kernelspec": {
   "display_name": "base",
   "language": "python",
   "name": "python3"
  },
  "language_info": {
   "codemirror_mode": {
    "name": "ipython",
    "version": 3
   },
   "file_extension": ".py",
   "mimetype": "text/x-python",
   "name": "python",
   "nbconvert_exporter": "python",
   "pygments_lexer": "ipython3",
   "version": "3.9.13"
  },
  "orig_nbformat": 4
 },
 "nbformat": 4,
 "nbformat_minor": 2
}
